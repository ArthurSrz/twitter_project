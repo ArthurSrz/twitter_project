{
 "cells": [
  {
   "cell_type": "code",
   "execution_count": 186,
   "id": "f7d554f9-9713-4551-8efa-ea57e1ac6509",
   "metadata": {},
   "outputs": [],
   "source": [
    "import json \n",
    "import pandas as pd \n",
    "import csv\n",
    "from pandas import json_normalize\n",
    "from gensim.models import KeyedVectors\n",
    "from nltk.tokenize import word_tokenize\n",
    "import string\n",
    "import re\n",
    "import nltk\n",
    "import ssl\n",
    "from transformers import AutoTokenizer, AutoModel\n",
    "import torch\n",
    "import numpy as np\n",
    "from sklearn.decomposition import PCA\n",
    "from sklearn.manifold import TSNE\n",
    "import matplotlib.pyplot as plt\n",
    "import warnings\n",
    "from sklearn.metrics.pairwise import cosine_similarity\n",
    "import networkx as nx\n",
    "from pyvis.network import Network\n",
    "from tqdm import tqdm\n",
    "from IPython.display import IFrame"
   ]
  },
  {
   "cell_type": "markdown",
   "id": "2c653f49-aaa7-469d-a667-d62b4da26eee",
   "metadata": {},
   "source": [
    "## Load Data"
   ]
  },
  {
   "cell_type": "code",
   "execution_count": 124,
   "id": "39ad5abd-eab5-4906-a883-b037244b5b0a",
   "metadata": {},
   "outputs": [
    {
     "name": "stdout",
     "output_type": "stream",
     "text": [
      "                                                text    user_mentions urls  \\\n",
      "0  RT @KWWLStormTrack7: We are more than a month ...  KWWLStormTrack7        \n",
      "1  @hail_ee23 Thanks love its just the feeling of...        hail_ee23        \n",
      "2  RT @TransMediaWatch: Pink News has more on the...  TransMediaWatch        \n",
      "3  RT @realDonaldTrump: One of the reasons we nee...  realDonaldTrump        \n",
      "4  RT @First5App: This hearing of His Word doesn’...        First5App        \n",
      "\n",
      "  hashtags  \n",
      "0           \n",
      "1           \n",
      "2           \n",
      "3           \n",
      "4           \n"
     ]
    }
   ],
   "source": [
    "# Load JSON Lines file into DataFrame\n",
    "df = pd.read_json('data_and_files/random_tweets.json', lines=True)\n",
    "\n",
    "# Function to extract user mentions as a comma-separated string\n",
    "def extract_user_mentions(user_mentions):\n",
    "    if isinstance(user_mentions, list):\n",
    "        return ','.join([mention['screen_name'] for mention in user_mentions])\n",
    "    return ''\n",
    "\n",
    "# Function to extract URLs as a comma-separated string\n",
    "def extract_urls(urls):\n",
    "    if isinstance(urls, list):\n",
    "        return ','.join([url['url'] for url in urls])\n",
    "    return ''\n",
    "\n",
    "# Function to extract hashtags as a comma-separated string\n",
    "def extract_hashtags(hashtags):\n",
    "    if isinstance(hashtags, list):\n",
    "        return ','.join([hashtag['text'] for hashtag in hashtags])\n",
    "    return ''\n",
    "\n",
    "# Flatten fields for each tweet\n",
    "df['user_mentions'] = df['entities'].apply(lambda x: extract_user_mentions(x.get('user_mentions', [])))\n",
    "df['urls'] = df['entities'].apply(lambda x: extract_urls(x.get('urls', [])))\n",
    "df['hashtags'] = df['entities'].apply(lambda x: extract_hashtags(x.get('hashtags', [])))\n",
    "df['text'] = df['text']  # Directly take 'text' as it is\n",
    "\n",
    "# Select only the required columns\n",
    "df = df[['text', 'user_mentions', 'urls', 'hashtags']]\n",
    "\n",
    "# Display the DataFrame with the required fields\n",
    "print(df.head())\n",
    "\n",
    "#send to csv\n",
    "df.to_csv('raw_data.csv')"
   ]
  },
  {
   "cell_type": "markdown",
   "id": "5ff70cfc-1478-44bf-b213-6eb4baf221d5",
   "metadata": {},
   "source": [
    "## Explore "
   ]
  },
  {
   "cell_type": "code",
   "execution_count": 125,
   "id": "93bd16d6-e15f-4a35-9dfe-2310c4cdfe35",
   "metadata": {},
   "outputs": [
    {
     "name": "stdout",
     "output_type": "stream",
     "text": [
      "                                                    text  \\\n",
      "18     RT @taegislut_: filo armys;\\n\\nwith every rt o...   \n",
      "91     RT @magi_jay: I can see the headlines &amp; tw...   \n",
      "97     RT @IamRajii: Sorry that I disturbed the threa...   \n",
      "113    RT @MattyCoversATS: Retweet for my top-graded ...   \n",
      "213    RT @jonskeet: Given the slew of recent \"I made...   \n",
      "...                                                  ...   \n",
      "10760  RT @MayWardJedi: I tweeted this last month bef...   \n",
      "10828  RT @TrendsOfNigeria: Missing Original NYSC cer...   \n",
      "10857  I'm so upset I dropped the word \"can\" when dra...   \n",
      "10932  RT @sean_spicier: All these liberals tweeting ...   \n",
      "10945  RT @xchaereign: CL DESERVES BETTER. THAT'S IT....   \n",
      "\n",
      "                user_mentions                     urls  hashtags  \n",
      "18                 taegislut_                                     \n",
      "91                   magi_jay                                     \n",
      "97                   IamRajii  https://t.co/0MvwVscA8G            \n",
      "113            MattyCoversATS                                     \n",
      "213                  jonskeet                                     \n",
      "...                       ...                      ...       ...  \n",
      "10760             MayWardJedi                                     \n",
      "10828  TrendsOfNigeria,teebol                                     \n",
      "10857                                                             \n",
      "10932            sean_spicier                                     \n",
      "10945              xchaereign                           씨엘에게공평함을  \n",
      "\n",
      "[294 rows x 4 columns]\n"
     ]
    }
   ],
   "source": [
    "# Keywords to search for\n",
    "keywords = [\"twitter\", \"tweet\", \"retweet\"]\n",
    "\n",
    "# Combine keywords into a single regex pattern\n",
    "pattern = '|'.join(keywords)\n",
    "\n",
    "# Filter the DataFrame\n",
    "filtered_df = df[df['text'].str.contains(pattern, case=False, na=False)]\n",
    "\n",
    "# Display the filtered DataFrame\n",
    "print(filtered_df)\n",
    "\n",
    "# Send to csv \n",
    "filtered_df.to_csv('filtered_raw_data.csv')"
   ]
  },
  {
   "cell_type": "markdown",
   "id": "da58edce-3f88-4122-98f3-fc4c27296b87",
   "metadata": {},
   "source": [
    "## Convert"
   ]
  },
  {
   "cell_type": "code",
   "execution_count": 126,
   "id": "70e833d2-a958-44ed-b83b-4b0768987ef8",
   "metadata": {},
   "outputs": [],
   "source": [
    "df_embed = pd.read_csv('filtered_raw_data.csv')"
   ]
  },
  {
   "cell_type": "markdown",
   "id": "d14b42f4-f61d-4d26-8dff-b2d9b85e5716",
   "metadata": {},
   "source": [
    "### Load Pre-trained Embedding Models"
   ]
  },
  {
   "cell_type": "code",
   "execution_count": 127,
   "id": "ae800d01-355e-4ff2-8554-3dd826c239b8",
   "metadata": {},
   "outputs": [],
   "source": [
    "# Load pre-trained model tokenizer and model\n",
    "tokenizer = AutoTokenizer.from_pretrained(\"bert-base-uncased\")\n",
    "model = AutoModel.from_pretrained(\"bert-base-uncased\")\n"
   ]
  },
  {
   "cell_type": "markdown",
   "id": "779e6fea-7019-4429-aac5-47e17a040c8b",
   "metadata": {},
   "source": [
    "### Create nodes"
   ]
  },
  {
   "cell_type": "code",
   "execution_count": 128,
   "id": "319e2191-71f1-4f62-b459-10a8f6ee8066",
   "metadata": {},
   "outputs": [],
   "source": [
    "# Extract hashtags from text\n",
    "df_embed['hashtags'] = df_embed['text'].apply(lambda x: re.findall(r\"#(\\w+)\", x))\n",
    "\n",
    "# For simplicity, we'll consider topics as unique words (excluding mentions and hashtags)\n",
    "df_embed['topics'] = df_embed['text'].apply(lambda x: re.findall(r\"\\b(?!@|#)\\w+\\b\", x.lower()))\n",
    "\n",
    "# Combine all unique nodes (users, hashtags, topics)\n",
    "nodes = set(df_embed['user_mentions']).union(*df_embed['hashtags']).union(*df_embed['topics'])\n"
   ]
  },
  {
   "cell_type": "markdown",
   "id": "b0027470-8824-4ea4-aa97-905328bb8a35",
   "metadata": {},
   "source": [
    "### Tokenize and convert to vector space using pre-trained model"
   ]
  },
  {
   "cell_type": "code",
   "execution_count": 129,
   "id": "6b9d3c99-90ec-4987-bb93-8fe3f432c172",
   "metadata": {},
   "outputs": [],
   "source": [
    "# Function to get embeddings for a single text\n",
    "def get_embeddings(text):\n",
    "    \"\"\"Get embeddings for a single text.\"\"\"\n",
    "    if not isinstance(text, str):\n",
    "        return np.zeros((1, model.config.hidden_size))  # Return a zero vector if text is not a string\n",
    "    inputs = tokenizer(text, return_tensors=\"pt\", truncation=True, padding=True)\n",
    "    with torch.no_grad():\n",
    "        outputs = model(**inputs)\n",
    "    last_hidden_state = outputs.last_hidden_state\n",
    "    return last_hidden_state.mean(dim=1).detach().numpy()\n",
    "\n",
    "# Generate embeddings for each node\n",
    "node_embeddings = {node: get_embeddings(node) for node in nodes}"
   ]
  },
  {
   "cell_type": "markdown",
   "id": "ffed72e0-6e8d-4c60-ba49-ba63e4d9ecfd",
   "metadata": {},
   "source": [
    "### Visualize the vector space "
   ]
  },
  {
   "cell_type": "code",
   "execution_count": 130,
   "id": "3481cb7e-134e-4f62-ac88-1181316172cc",
   "metadata": {},
   "outputs": [],
   "source": [
    "# Convert the dictionary of embeddings to a list of embeddings and a list of corresponding nodes\n",
    "embeddings_list = []\n",
    "nodes_list = []\n",
    "\n",
    "for node, embedding in node_embeddings.items():\n",
    "    embeddings_list.append(embedding.flatten())  # Flatten the embedding to a 1D array\n",
    "    nodes_list.append(node)\n",
    "\n",
    "# Convert to numpy array\n",
    "embeddings_np = np.vstack(embeddings_list)"
   ]
  },
  {
   "cell_type": "code",
   "execution_count": 131,
   "id": "e935f75d-a194-4dd4-8d21-2bdbd94e9993",
   "metadata": {
    "collapsed": true,
    "jupyter": {
     "outputs_hidden": true
    }
   },
   "outputs": [
    {
     "name": "stderr",
     "output_type": "stream",
     "text": [
      "/Library/Frameworks/Python.framework/Versions/3.11/lib/python3.11/site-packages/sklearn/manifold/_t_sne.py:1162: FutureWarning: 'n_iter' was renamed to 'max_iter' in version 1.5 and will be removed in 1.7.\n",
      "  warnings.warn(\n",
      "huggingface/tokenizers: The current process just got forked, after parallelism has already been used. Disabling parallelism to avoid deadlocks...\n",
      "To disable this warning, you can either:\n",
      "\t- Avoid using `tokenizers` before the fork if possible\n",
      "\t- Explicitly set the environment variable TOKENIZERS_PARALLELISM=(true | false)\n"
     ]
    }
   ],
   "source": [
    "# Reduce dimensions with PCA first\n",
    "pca = PCA(n_components=50)  # Reduce to 50 dimensions\n",
    "pca_result = pca.fit_transform(embeddings_np)\n",
    "\n",
    "# Further reduce to 2D with t-SNE\n",
    "tsne = TSNE(n_components=2, perplexity=30, n_iter=300)\n",
    "tsne_result = tsne.fit_transform(pca_result)"
   ]
  },
  {
   "cell_type": "code",
   "execution_count": 136,
   "id": "425bad0a-d672-4b49-ac53-aff430122511",
   "metadata": {},
   "outputs": [],
   "source": [
    "# Suppress specific warnings\n",
    "warnings.filterwarnings(\"ignore\", category=UserWarning, message=\"Glyph.*missing from current font.\")\n"
   ]
  },
  {
   "cell_type": "code",
   "execution_count": 137,
   "id": "4126a434-3ec2-4c20-81dd-0901697d5b12",
   "metadata": {},
   "outputs": [
    {
     "data": {
      "image/png": "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