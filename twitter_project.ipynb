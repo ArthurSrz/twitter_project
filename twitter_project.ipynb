{
 "cells": [
  {
   "cell_type": "code",
   "execution_count": 1,
   "id": "f7d554f9-9713-4551-8efa-ea57e1ac6509",
   "metadata": {},
   "outputs": [],
   "source": [
    "import json \n",
    "import pandas as pd "
   ]
  },
  {
   "cell_type": "markdown",
   "id": "2c653f49-aaa7-469d-a667-d62b4da26eee",
   "metadata": {},
   "source": [
    "## Load Data"
   ]
  },
  {
   "cell_type": "code",
   "execution_count": 4,
   "id": "fbcb288a-8324-4ef9-b8e0-5d450d2ba8b4",
   "metadata": {},
   "outputs": [
    {
     "name": "stdout",
     "output_type": "stream",
     "text": [
      "                       created_at                   id               id_str  \\\n",
      "0  Tue Jul 31 13:34:40 +0000 2018  1024287229525598210  1024287229525598210   \n",
      "1  Tue Jul 31 13:34:40 +0000 2018  1024287229512953856  1024287229512953856   \n",
      "2  Tue Jul 31 13:34:40 +0000 2018  1024287229504569344  1024287229504569344   \n",
      "3  Tue Jul 31 13:34:40 +0000 2018  1024287229496029190  1024287229496029190   \n",
      "4  Tue Jul 31 13:34:40 +0000 2018  1024287229492031490  1024287229492031490   \n",
      "\n",
      "                                                text  truncated  \\\n",
      "0  RT @KWWLStormTrack7: We are more than a month ...      False   \n",
      "1  @hail_ee23 Thanks love its just the feeling of...      False   \n",
      "2  RT @TransMediaWatch: Pink News has more on the...      False   \n",
      "3  RT @realDonaldTrump: One of the reasons we nee...      False   \n",
      "4  RT @First5App: This hearing of His Word doesn’...      False   \n",
      "\n",
      "                                            entities  \\\n",
      "0  {'hashtags': [], 'symbols': [], 'user_mentions...   \n",
      "1  {'hashtags': [], 'symbols': [], 'user_mentions...   \n",
      "2  {'hashtags': [], 'symbols': [], 'user_mentions...   \n",
      "3  {'hashtags': [], 'symbols': [], 'user_mentions...   \n",
      "4  {'hashtags': [], 'symbols': [], 'user_mentions...   \n",
      "\n",
      "                                            metadata  \\\n",
      "0  {'iso_language_code': 'en', 'result_type': 're...   \n",
      "1  {'iso_language_code': 'en', 'result_type': 're...   \n",
      "2  {'iso_language_code': 'en', 'result_type': 're...   \n",
      "3  {'iso_language_code': 'en', 'result_type': 're...   \n",
      "4  {'iso_language_code': 'en', 'result_type': 're...   \n",
      "\n",
      "                                              source  in_reply_to_status_id  \\\n",
      "0  <a href=\"http://twitter.com/download/android\" ...                    NaN   \n",
      "1  <a href=\"http://twitter.com/download/iphone\" r...           1.024128e+18   \n",
      "2  <a href=\"http://twitter.com/download/iphone\" r...                    NaN   \n",
      "3  <a href=\"http://twitter.com/download/android\" ...                    NaN   \n",
      "4  <a href=\"http://twitter.com/download/iphone\" r...                    NaN   \n",
      "\n",
      "  in_reply_to_status_id_str  ...  favorite_count favorited retweeted lang  \\\n",
      "0                      None  ...               0     False     False   en   \n",
      "1       1024127527072292864  ...               0     False     False   en   \n",
      "2                      None  ...               0     False     False   en   \n",
      "3                      None  ...               0     False     False   en   \n",
      "4                      None  ...               0     False     False   en   \n",
      "\n",
      "  possibly_sensitive quoted_status_id quoted_status_id_str extended_entities  \\\n",
      "0                NaN              NaN                  NaN               NaN   \n",
      "1                NaN              NaN                  NaN               NaN   \n",
      "2              False              NaN                  NaN               NaN   \n",
      "3                NaN              NaN                  NaN               NaN   \n",
      "4                NaN              NaN                  NaN               NaN   \n",
      "\n",
      "  quoted_status  withheld_in_countries  \n",
      "0           NaN                    NaN  \n",
      "1           NaN                    NaN  \n",
      "2           NaN                    NaN  \n",
      "3           NaN                    NaN  \n",
      "4           NaN                    NaN  \n",
      "\n",
      "[5 rows x 31 columns]\n"
     ]
    }
   ],
   "source": [
    "# Initialize an empty list to hold each JSON object\n",
    "data = []\n",
    "\n",
    "# Read the file line by line\n",
    "with open('data_and_files/random_tweets.json', 'r') as file:\n",
    "    for line in file:\n",
    "        try:\n",
    "            # Decode each line as a JSON object and append to the list\n",
    "            data.append(json.loads(line))\n",
    "        except json.JSONDecodeError as e:\n",
    "            print(f\"Error decoding JSON: {e}\")\n",
    "\n",
    "# Convert list of JSON objects to pandas DataFrame\n",
    "df = pd.DataFrame(data)\n",
    "\n",
    "# Display the first few rows\n",
    "print(df.head())"
   ]
  },
  {
   "cell_type": "markdown",
   "id": "30e40b72-4436-4967-9de4-564c7615d7d7",
   "metadata": {},
   "source": [
    "## Convert data "
   ]
  },
  {
   "cell_type": "code",
   "execution_count": 6,
   "id": "45434c4e-1e13-4eb4-aed1-b4d6635f916e",
   "metadata": {},
   "outputs": [
    {
     "name": "stdout",
     "output_type": "stream",
     "text": [
      "                 created_at                   id               id_str  \\\n",
      "0 2018-07-31 13:34:40+00:00  1024287229525598210  1024287229525598210   \n",
      "1 2018-07-31 13:34:40+00:00  1024287229512953856  1024287229512953856   \n",
      "2 2018-07-31 13:34:40+00:00  1024287229504569344  1024287229504569344   \n",
      "3 2018-07-31 13:34:40+00:00  1024287229496029190  1024287229496029190   \n",
      "4 2018-07-31 13:34:40+00:00  1024287229492031490  1024287229492031490   \n",
      "\n",
      "                                                text  truncated  \\\n",
      "0  RT @KWWLStormTrack7: We are more than a month ...      False   \n",
      "1  @hail_ee23 Thanks love its just the feeling of...      False   \n",
      "2  RT @TransMediaWatch: Pink News has more on the...      False   \n",
      "3  RT @realDonaldTrump: One of the reasons we nee...      False   \n",
      "4  RT @First5App: This hearing of His Word doesn’...      False   \n",
      "\n",
      "                                            entities  \\\n",
      "0  {'hashtags': [], 'symbols': [], 'user_mentions...   \n",
      "1  {'hashtags': [], 'symbols': [], 'user_mentions...   \n",
      "2  {'hashtags': [], 'symbols': [], 'user_mentions...   \n",
      "3  {'hashtags': [], 'symbols': [], 'user_mentions...   \n",
      "4  {'hashtags': [], 'symbols': [], 'user_mentions...   \n",
      "\n",
      "                                            metadata  \\\n",
      "0  {'iso_language_code': 'en', 'result_type': 're...   \n",
      "1  {'iso_language_code': 'en', 'result_type': 're...   \n",
      "2  {'iso_language_code': 'en', 'result_type': 're...   \n",
      "3  {'iso_language_code': 'en', 'result_type': 're...   \n",
      "4  {'iso_language_code': 'en', 'result_type': 're...   \n",
      "\n",
      "                                              source  in_reply_to_status_id  \\\n",
      "0  <a href=\"http://twitter.com/download/android\" ...                    NaN   \n",
      "1  <a href=\"http://twitter.com/download/iphone\" r...           1.024128e+18   \n",
      "2  <a href=\"http://twitter.com/download/iphone\" r...                    NaN   \n",
      "3  <a href=\"http://twitter.com/download/android\" ...                    NaN   \n",
      "4  <a href=\"http://twitter.com/download/iphone\" r...                    NaN   \n",
      "\n",
      "  in_reply_to_status_id_str  ...  favorite_count favorited retweeted lang  \\\n",
      "0                      None  ...               0     False     False   en   \n",
      "1       1024127527072292864  ...               0     False     False   en   \n",
      "2                      None  ...               0     False     False   en   \n",
      "3                      None  ...               0     False     False   en   \n",
      "4                      None  ...               0     False     False   en   \n",
      "\n",
      "  possibly_sensitive quoted_status_id quoted_status_id_str extended_entities  \\\n",
      "0                NaN              NaN                  NaN               NaN   \n",
      "1                NaN              NaN                  NaN               NaN   \n",
      "2              False              NaN                  NaN               NaN   \n",
      "3                NaN              NaN                  NaN               NaN   \n",
      "4                NaN              NaN                  NaN               NaN   \n",
      "\n",
      "  quoted_status  withheld_in_countries  \n",
      "0           NaN                    NaN  \n",
      "1           NaN                    NaN  \n",
      "2           NaN                    NaN  \n",
      "3           NaN                    NaN  \n",
      "4           NaN                    NaN  \n",
      "\n",
      "[5 rows x 31 columns]\n"
     ]
    }
   ],
   "source": [
    "#transform to datetime \n",
    "df['created_at'] = pd.to_datetime(df['created_at'], format='%a %b %d %H:%M:%S %z %Y')\n",
    "print(df.head())"
   ]
  },
  {
   "cell_type": "code",
   "execution_count": 8,
   "id": "000de527-79c3-4308-b18f-f9153e9c456c",
   "metadata": {},
   "outputs": [
    {
     "name": "stdout",
     "output_type": "stream",
     "text": [
      "                 created_at                   id               id_str  \\\n",
      "0 2018-07-31 13:34:40+00:00  1024287229525598210  1024287229525598210   \n",
      "1 2018-07-31 13:34:40+00:00  1024287229512953856  1024287229512953856   \n",
      "2 2018-07-31 13:34:40+00:00  1024287229504569344  1024287229504569344   \n",
      "3 2018-07-31 13:34:40+00:00  1024287229496029190  1024287229496029190   \n",
      "4 2018-07-31 13:34:40+00:00  1024287229492031490  1024287229492031490   \n",
      "\n",
      "                                                text  truncated  \\\n",
      "0  RT @KWWLStormTrack7: We are more than a month ...      False   \n",
      "1  @hail_ee23 Thanks love its just the feeling of...      False   \n",
      "2  RT @TransMediaWatch: Pink News has more on the...      False   \n",
      "3  RT @realDonaldTrump: One of the reasons we nee...      False   \n",
      "4  RT @First5App: This hearing of His Word doesn’...      False   \n",
      "\n",
      "                                            entities  \\\n",
      "0  {'hashtags': [], 'symbols': [], 'user_mentions...   \n",
      "1  {'hashtags': [], 'symbols': [], 'user_mentions...   \n",
      "2  {'hashtags': [], 'symbols': [], 'user_mentions...   \n",
      "3  {'hashtags': [], 'symbols': [], 'user_mentions...   \n",
      "4  {'hashtags': [], 'symbols': [], 'user_mentions...   \n",
      "\n",
      "                                            metadata  \\\n",
      "0  {'iso_language_code': 'en', 'result_type': 're...   \n",
      "1  {'iso_language_code': 'en', 'result_type': 're...   \n",
      "2  {'iso_language_code': 'en', 'result_type': 're...   \n",
      "3  {'iso_language_code': 'en', 'result_type': 're...   \n",
      "4  {'iso_language_code': 'en', 'result_type': 're...   \n",
      "\n",
      "                                              source  in_reply_to_status_id  \\\n",
      "0  <a href=\"http://twitter.com/download/android\" ...                    NaN   \n",
      "1  <a href=\"http://twitter.com/download/iphone\" r...           1.024128e+18   \n",
      "2  <a href=\"http://twitter.com/download/iphone\" r...                    NaN   \n",
      "3  <a href=\"http://twitter.com/download/android\" ...                    NaN   \n",
      "4  <a href=\"http://twitter.com/download/iphone\" r...                    NaN   \n",
      "\n",
      "  in_reply_to_status_id_str  ...  quoted_status_id_str extended_entities  \\\n",
      "0                      None  ...                   NaN               NaN   \n",
      "1       1024127527072292864  ...                   NaN               NaN   \n",
      "2                      None  ...                   NaN               NaN   \n",
      "3                      None  ...                   NaN               NaN   \n",
      "4                      None  ...                   NaN               NaN   \n",
      "\n",
      "  quoted_status withheld_in_countries  year month day hour minute  second  \n",
      "0           NaN                   NaN  2018     7  31   13     34      40  \n",
      "1           NaN                   NaN  2018     7  31   13     34      40  \n",
      "2           NaN                   NaN  2018     7  31   13     34      40  \n",
      "3           NaN                   NaN  2018     7  31   13     34      40  \n",
      "4           NaN                   NaN  2018     7  31   13     34      40  \n",
      "\n",
      "[5 rows x 37 columns]\n"
     ]
    }
   ],
   "source": [
    "# Extract year, month, day, etc.\n",
    "df['year'] = df['created_at'].dt.year\n",
    "df['month'] = df['created_at'].dt.month\n",
    "df['day'] = df['created_at'].dt.day\n",
    "df['hour'] = df['created_at'].dt.hour\n",
    "df['minute'] = df['created_at'].dt.minute\n",
    "df['second'] = df['created_at'].dt.second\n",
    "print(df.head())"
   ]
  },
  {
   "cell_type": "markdown",
   "id": "5ff70cfc-1478-44bf-b213-6eb4baf221d5",
   "metadata": {},
   "source": [
    "## Explore "
   ]
  },
  {
   "cell_type": "markdown",
   "id": "5ebbcd0f-c690-4756-b1d4-b6e8cb765adc",
   "metadata": {},
   "source": [
    "What's the time range of the tweets published ?  "
   ]
  },
  {
   "cell_type": "code",
   "execution_count": 17,
   "id": "74050c90-8093-481f-bb48-e82cc3c56e22",
   "metadata": {},
   "outputs": [
    {
     "data": {
      "text/plain": [
       "array([13], dtype=int32)"
      ]
     },
     "execution_count": 17,
     "metadata": {},
     "output_type": "execute_result"
    }
   ],
   "source": [
    "df['hour'].unique()"
   ]
  },
  {
   "cell_type": "code",
   "execution_count": 18,
   "id": "b249a01e-a4e9-4786-8a26-d0e07c102446",
   "metadata": {},
   "outputs": [
    {
     "data": {
      "text/plain": [
       "array([34], dtype=int32)"
      ]
     },
     "execution_count": 18,
     "metadata": {},
     "output_type": "execute_result"
    }
   ],
   "source": [
    "df['minute'].unique()"
   ]
  },
  {
   "cell_type": "code",
   "execution_count": 16,
   "id": "3274ce54-f7b0-4d2b-87cd-a22b43b817f8",
   "metadata": {},
   "outputs": [
    {
     "data": {
      "text/plain": [
       "array([40, 39, 38, 37, 36, 35, 34, 33, 32, 31, 30, 29, 28, 27, 26, 25, 24,\n",
       "       23, 22, 21, 20, 19, 18, 17, 16, 15, 14, 13], dtype=int32)"
      ]
     },
     "execution_count": 16,
     "metadata": {},
     "output_type": "execute_result"
    }
   ],
   "source": [
    "df['second'].unique()"
   ]
  },
  {
   "cell_type": "code",
   "execution_count": 19,
   "id": "fff9458a-1126-42ec-a940-955bf84eff7a",
   "metadata": {},
   "outputs": [
    {
     "name": "stdout",
     "output_type": "stream",
     "text": [
      "0        RT @KWWLStormTrack7: We are more than a month ...\n",
      "1        @hail_ee23 Thanks love its just the feeling of...\n",
      "2        RT @TransMediaWatch: Pink News has more on the...\n",
      "3        RT @realDonaldTrump: One of the reasons we nee...\n",
      "4        RT @First5App: This hearing of His Word doesn’...\n",
      "                               ...                        \n",
      "11094    RT @sirDukeDevin: Trump keeps talking about \"1...\n",
      "11095    RT @AMAZlNGNATURE: Proud boy finding the best ...\n",
      "11096    @ChrisDanicic @Mediaite @benshapiro The argume...\n",
      "11097    RT @jodiequotepic: \"I wanted to express the co...\n",
      "11098    @w_terrence We shouldn't be making fun of peop...\n",
      "Name: text, Length: 11099, dtype: object\n"
     ]
    }
   ],
   "source": [
    "print(df['text'])"
   ]
  }
 ],
 "metadata": {
  "kernelspec": {
   "display_name": "Python 3 (ipykernel)",
   "language": "python",
   "name": "python3"
  },
  "language_info": {
   "codemirror_mode": {
    "name": "ipython",
    "version": 3
   },
   "file_extension": ".py",
   "mimetype": "text/x-python",
   "name": "python",
   "nbconvert_exporter": "python",
   "pygments_lexer": "ipython3",
   "version": "3.11.5"
  }
 },
 "nbformat": 4,
 "nbformat_minor": 5
}
